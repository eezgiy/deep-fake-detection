{
 "cells": [
  {
   "cell_type": "markdown",
   "metadata": {},
   "source": [
    "THE DATASETS WERE UNBALANCED, CODE FOUND BELOW BALLANCES THE DATASETS AT GIVEN PATHS."
   ]
  },
  {
   "cell_type": "code",
   "execution_count": 1,
   "metadata": {},
   "outputs": [
    {
     "name": "stdout",
     "output_type": "stream",
     "text": [
      "Augmenting real images to balance the dataset...\n",
      "Dataset balancing complete.\n"
     ]
    }
   ],
   "source": [
    "import os\n",
    "import random\n",
    "from PIL import Image, ImageEnhance\n",
    "from shutil import copyfile\n",
    "\n",
    "# Paths of datasets\n",
    "fake_images_path = r\"C:\\Users\\yakup\\Desktop\\Special Dataset\\Frames\\Fake\"\n",
    "real_images_path = r\"C:\\Users\\yakup\\Desktop\\Special Dataset\\Frames\\Real\"\n",
    "\n",
    "# No of images at each folder\n",
    "fake_images_count = len(os.listdir(fake_images_path))\n",
    "real_images_count = len(os.listdir(real_images_path))\n",
    "\n",
    "# Target no of image\n",
    "target_count = fake_images_count\n",
    "\n",
    "# Augmentation function to create variations of an image\n",
    "def augment_image(image_path, output_path):\n",
    "    image = Image.open(image_path)\n",
    "\n",
    "    # Random rotation\n",
    "    angle = random.randint(-15, 15)\n",
    "    image = image.rotate(angle)\n",
    "\n",
    "    # Random brightness adjustment\n",
    "    enhancer = ImageEnhance.Brightness(image)\n",
    "    image = enhancer.enhance(random.uniform(0.8, 1.2))\n",
    "\n",
    "    # Random flip\n",
    "    if random.choice([True, False]):\n",
    "        image = image.transpose(Image.FLIP_LEFT_RIGHT)\n",
    "\n",
    "    image.save(output_path)\n",
    "\n",
    "# Create augmented images for the real dataset\n",
    "if real_images_count < target_count:\n",
    "    print(\"Augmenting real images to balance the dataset...\")\n",
    "    real_images = os.listdir(real_images_path)\n",
    "    augment_count = target_count - real_images_count\n",
    "    \n",
    "    for i in range(augment_count):\n",
    "        original_image = os.path.join(real_images_path, random.choice(real_images))\n",
    "        new_image_name = f\"augmented_{i}.jpg\"\n",
    "        new_image_path = os.path.join(real_images_path, new_image_name)\n",
    "        augment_image(original_image, new_image_path)\n",
    "\n",
    "print(\"Dataset balancing complete.\")\n"
   ]
  },
  {
   "cell_type": "code",
   "execution_count": null,
   "metadata": {},
   "outputs": [],
   "source": []
  }
 ],
 "metadata": {
  "kernelspec": {
   "display_name": "Python 3",
   "language": "python",
   "name": "python3"
  },
  "language_info": {
   "codemirror_mode": {
    "name": "ipython",
    "version": 3
   },
   "file_extension": ".py",
   "mimetype": "text/x-python",
   "name": "python",
   "nbconvert_exporter": "python",
   "pygments_lexer": "ipython3",
   "version": "3.12.7"
  }
 },
 "nbformat": 4,
 "nbformat_minor": 2
}
